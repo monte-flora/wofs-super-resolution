{
 "cells": [
  {
   "cell_type": "code",
   "execution_count": 8,
   "id": "a5281cb0",
   "metadata": {},
   "outputs": [],
   "source": [
    "import xarray as xr \n",
    "import numpy as np\n",
    "import os \n",
    "from glob import glob"
   ]
  },
  {
   "cell_type": "code",
   "execution_count": 2,
   "id": "d41e1c05",
   "metadata": {},
   "outputs": [],
   "source": [
    "# TODO: Think about using patching solely due to difference in shapes \n",
    "# of the 3-km and 1-km grids.\n",
    "\n",
    "def load_data(date, init_time, time_ind, ens_ind=1):\n",
    "    #/work/brian.matilla/WOFS_2021/summary_files/WOFS_JET/WOFS_1km_downscaled/\n",
    "    base_path = '/work/brian.matilla/WOFS_2021/summary_files/WOFS_JET/WOFS_1KM/'\n",
    "    file_path = glob(os.path.join(base_path, date, init_time, f'wofs_ENS_{time_ind}*'))[0]\n",
    "    ds_1km = xr.load_dataset(file_path, decode_times=False)\n",
    "    dbz_1km = ds_1km['comp_dz'].values[ens_ind,:,:]\n",
    "    \n",
    "    base_path = '/work/mflora/SummaryFiles/'\n",
    "    file_path = glob(os.path.join(base_path, date, init_time, f'wofs_ENS_{time_ind}*'))[0]\n",
    "    ds_3km = xr.load_dataset(file_path, decode_times=False)\n",
    "    dbz_3km = ds_3km['comp_dz'].values[ens_ind,:,:]\n",
    "    \n",
    "    return dbz_1km, dbz_3km, ds_1km, ds_3km"
   ]
  },
  {
   "cell_type": "code",
   "execution_count": 3,
   "id": "d8a6c3ac",
   "metadata": {},
   "outputs": [],
   "source": [
    "dates = os.listdir('/work/brian.matilla/WOFS_2021/summary_files/WOFS_JET/WOFS_1KM/')\n",
    "dates.remove('sens_test_dates')"
   ]
  },
  {
   "cell_type": "code",
   "execution_count": 4,
   "id": "9344185d",
   "metadata": {},
   "outputs": [],
   "source": [
    "date = '20210504'\n",
    "init_time = '2300'\n",
    "time_ind = '03'\n",
    "ens_ind = 4\n",
    "\n",
    "dbz_1km, dbz_3km, ds_1km, ds_3km = load_data(date, init_time, time_ind, ens_ind)"
   ]
  },
  {
   "cell_type": "code",
   "execution_count": 9,
   "id": "fee52301",
   "metadata": {},
   "outputs": [],
   "source": [
    "# Resample 1km to the 3km grid before patching. \n",
    "# Make sure the 1-km and 3-km span the same lat/lon space. \n",
    "xlat = ds_1km['xlat'].values\n",
    "xlat_min, xlat_max = np.min(xlat), np.max(xlat)\n",
    "\n",
    "xlon = ds_1km['xlon'].values\n",
    "xlon_min, xlon_max = np.min(xlon), np.max(xlon)\n",
    "\n",
    "xlat_3km = ds_3km['xlat'].values\n",
    "xlon_3km = ds_3km['xlon'].values\n",
    "\n",
    "# lat = y, lon = x \n",
    "jmax = np.argmin(np.abs(xlat_3km[:,0] - xlat_max))\n",
    "jmin = np.argmin(np.abs(xlat_3km[:,0] - xlat_min))\n",
    "\n",
    "imax = np.argmin(np.abs(xlon_3km[0,:] - xlon_max))\n",
    "imin = np.argmin(np.abs(xlon_3km[0,:] - xlon_min))\n",
    "\n",
    "dbz_3km_res = dbz_3km[jmin:jmax+1, imin:imax+1]"
   ]
  },
  {
   "cell_type": "code",
   "execution_count": 10,
   "id": "8e0edf9f",
   "metadata": {},
   "outputs": [
    {
     "data": {
      "text/plain": [
       "(136, 144)"
      ]
     },
     "execution_count": 10,
     "metadata": {},
     "output_type": "execute_result"
    }
   ],
   "source": [
    "dbz_3km_res.shape"
   ]
  },
  {
   "cell_type": "code",
   "execution_count": null,
   "id": "13b7e1e9",
   "metadata": {},
   "outputs": [],
   "source": []
  }
 ],
 "metadata": {
  "kernelspec": {
   "display_name": "Python 3 (ipykernel)",
   "language": "python",
   "name": "python3"
  },
  "language_info": {
   "codemirror_mode": {
    "name": "ipython",
    "version": 3
   },
   "file_extension": ".py",
   "mimetype": "text/x-python",
   "name": "python",
   "nbconvert_exporter": "python",
   "pygments_lexer": "ipython3",
   "version": "3.10.6"
  }
 },
 "nbformat": 4,
 "nbformat_minor": 5
}
