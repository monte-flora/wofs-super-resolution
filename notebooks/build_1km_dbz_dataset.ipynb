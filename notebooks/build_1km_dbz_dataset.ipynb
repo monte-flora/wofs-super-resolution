{
 "cells": [
  {
   "cell_type": "code",
   "execution_count": 3,
   "id": "a5281cb0",
   "metadata": {},
   "outputs": [],
   "source": [
    "import xarray as xr \n",
    "import numpy as np\n",
    "import os \n",
    "from glob import glob\n",
    "import tensorflow as tf "
   ]
  },
  {
   "cell_type": "code",
   "execution_count": 5,
   "id": "ab1c0a27",
   "metadata": {},
   "outputs": [
    {
     "name": "stderr",
     "output_type": "stream",
     "text": [
      "2022-11-11 11:37:37.970053: I tensorflow/core/common_runtime/gpu/gpu_device.cc:1616] Created device /job:localhost/replica:0/task:0/device:GPU:0 with 38247 MB memory:  -> device: 0, name: NVIDIA A100-PCIE-40GB, pci bus id: 0000:81:00.0, compute capability: 8.0\n"
     ]
    }
   ],
   "source": [
    "config = tf.compat.v1.ConfigProto()\n",
    "config.gpu_options.allow_growth = True\n",
    "session = tf.compat.v1.Session(config=config)"
   ]
  },
  {
   "cell_type": "code",
   "execution_count": 9,
   "id": "9344185d",
   "metadata": {},
   "outputs": [],
   "source": [
    "date = '20210504'\n",
    "init_time = '2300'"
   ]
  },
  {
   "cell_type": "code",
   "execution_count": 30,
   "id": "ddcb5430",
   "metadata": {},
   "outputs": [],
   "source": [
    "BASE_PATH = '/work/brian.matilla/WOFS_2021/summary_files/WOFS_JET/WOFS_1KM/'\n",
    "train_paths = glob(os.path.join(BASE_PATH, date, init_time, f'wofs_ENS_*'))\n",
    "\n",
    "def resize(img, height, width):\n",
    "    img = tf.image.resize(img, [height, width],\n",
    "                                method=tf.image.ResizeMethod.NEAREST_NEIGHBOR)\n",
    "\n",
    "    return img\n",
    "\n",
    "def load(file_path):\n",
    "    N_ENS_MEM = 18 \n",
    "    N_PATCHES = 7*7\n",
    "    \n",
    "    MEAN = 23.30260807740146\n",
    "    STD = 16.574040989743658\n",
    "    \n",
    "    ds = xr.load_dataset(file_path, decode_times=False)\n",
    "    dbz = ds['comp_dz'].values[:,:,:]\n",
    "    \n",
    "    # Normalize the data. \n",
    "    dbz = (dbz - MEAN) / STD \n",
    "    \n",
    "    # Reshape (N, 402, 402, 1)\n",
    "    dbz = dbz.reshape(list(dbz.shape)+[1])\n",
    "    \n",
    "    \n",
    "    # Convert image to float32 \n",
    "    dbz = tf.cast(dbz, tf.float32)\n",
    "    \n",
    "    # Create patches \n",
    "    dbz_patches = tf.image.extract_patches(dbz, \n",
    "                                           sizes=[1, 64, 64,1], \n",
    "                                           strides=[1,64, 64, 1],\n",
    "                                           rates=[1,1,1,1],\n",
    "                                           padding='SAME')\n",
    "\n",
    "    # Reshape\n",
    "    dbz_patches = tf.reshape(dbz_patches, (N_PATCHES*N_ENS_MEM, 64, 64, 1))\n",
    "    \n",
    "    return dbz_patches"
   ]
  },
  {
   "cell_type": "code",
   "execution_count": 31,
   "id": "619fb697",
   "metadata": {},
   "outputs": [
    {
     "name": "stdout",
     "output_type": "stream",
     "text": [
      "23.30260807740146 16.574040989743658\n"
     ]
    }
   ],
   "source": [
    "ds = load(train_paths[0])"
   ]
  },
  {
   "cell_type": "code",
   "execution_count": 32,
   "id": "d1f10d7b",
   "metadata": {},
   "outputs": [
    {
     "data": {
      "text/plain": [
       "TensorShape([882, 64, 64, 1])"
      ]
     },
     "execution_count": 32,
     "metadata": {},
     "output_type": "execute_result"
    }
   ],
   "source": [
    "ds.shape"
   ]
  },
  {
   "cell_type": "code",
   "execution_count": null,
   "id": "d89c0948",
   "metadata": {},
   "outputs": [],
   "source": []
  }
 ],
 "metadata": {
  "kernelspec": {
   "display_name": "Python 3 (ipykernel)",
   "language": "python",
   "name": "python3"
  },
  "language_info": {
   "codemirror_mode": {
    "name": "ipython",
    "version": 3
   },
   "file_extension": ".py",
   "mimetype": "text/x-python",
   "name": "python",
   "nbconvert_exporter": "python",
   "pygments_lexer": "ipython3",
   "version": "3.10.6"
  }
 },
 "nbformat": 4,
 "nbformat_minor": 5
}
